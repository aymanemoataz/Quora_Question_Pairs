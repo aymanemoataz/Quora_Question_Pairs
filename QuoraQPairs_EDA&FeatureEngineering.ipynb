{
 "cells": [
  {
   "cell_type": "markdown",
   "id": "a8fe74e9",
   "metadata": {},
   "source": [
    "# Quora Question pairs"
   ]
  },
  {
   "cell_type": "markdown",
   "id": "7454bcf4",
   "metadata": {},
   "source": [
    "## Notebook overview\n",
    "\n",
    "* [1](#step1): Downloading the Data\n",
    "* [2](#step2): Feature Engineering and EDA\n",
    "* [3](#step3): \n",
    "* [4](#step4): "
   ]
  },
  {
   "cell_type": "markdown",
   "id": "acd5eb03",
   "metadata": {},
   "source": [
    "## 1. Importing data from kaggle"
   ]
  },
  {
   "cell_type": "code",
   "execution_count": 2,
   "id": "360409e5",
   "metadata": {},
   "outputs": [],
   "source": [
    "%%capture\n",
    "!pip install opendatasets\n",
    "import opendatasets as od"
   ]
  },
  {
   "cell_type": "code",
   "execution_count": 5,
   "id": "e1d8d88d",
   "metadata": {},
   "outputs": [
    {
     "name": "stdout",
     "output_type": "stream",
     "text": [
      " aymanemoataz\n",
      " ········\n"
     ]
    }
   ],
   "source": [
    "%%capture\n",
    "od.download(\"https://www.kaggle.com/competitions/quora-question-pairs/data\")"
   ]
  },
  {
   "cell_type": "markdown",
   "id": "06da77c0",
   "metadata": {},
   "source": [
    "## 2. Exploratory data analysis and Feature Engineering"
   ]
  },
  {
   "cell_type": "code",
   "execution_count": null,
   "id": "0021ab0b",
   "metadata": {},
   "outputs": [],
   "source": []
  },
  {
   "cell_type": "code",
   "execution_count": null,
   "id": "cda1cc52",
   "metadata": {},
   "outputs": [],
   "source": []
  },
  {
   "cell_type": "code",
   "execution_count": null,
   "id": "29c752fc",
   "metadata": {},
   "outputs": [],
   "source": []
  },
  {
   "cell_type": "code",
   "execution_count": null,
   "id": "7f9bb8a7",
   "metadata": {},
   "outputs": [],
   "source": []
  },
  {
   "cell_type": "code",
   "execution_count": null,
   "id": "6f58c1d5",
   "metadata": {},
   "outputs": [],
   "source": []
  },
  {
   "cell_type": "code",
   "execution_count": null,
   "id": "b121ec42",
   "metadata": {},
   "outputs": [],
   "source": []
  },
  {
   "cell_type": "code",
   "execution_count": null,
   "id": "8f838e2d",
   "metadata": {},
   "outputs": [],
   "source": []
  },
  {
   "cell_type": "code",
   "execution_count": null,
   "id": "6bf69c8b",
   "metadata": {},
   "outputs": [],
   "source": []
  },
  {
   "cell_type": "code",
   "execution_count": null,
   "id": "036cb035",
   "metadata": {},
   "outputs": [],
   "source": []
  },
  {
   "cell_type": "code",
   "execution_count": null,
   "id": "a0655fcc",
   "metadata": {},
   "outputs": [],
   "source": []
  },
  {
   "cell_type": "code",
   "execution_count": null,
   "id": "7d67ff4f",
   "metadata": {},
   "outputs": [],
   "source": []
  },
  {
   "cell_type": "code",
   "execution_count": null,
   "id": "dd305de4",
   "metadata": {},
   "outputs": [],
   "source": []
  }
 ],
 "metadata": {
  "kernelspec": {
   "display_name": "Python 3 (ipykernel)",
   "language": "python",
   "name": "python3"
  },
  "language_info": {
   "codemirror_mode": {
    "name": "ipython",
    "version": 3
   },
   "file_extension": ".py",
   "mimetype": "text/x-python",
   "name": "python",
   "nbconvert_exporter": "python",
   "pygments_lexer": "ipython3",
   "version": "3.9.12"
  }
 },
 "nbformat": 4,
 "nbformat_minor": 5
}
